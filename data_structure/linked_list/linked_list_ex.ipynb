{
 "cells": [
  {
   "cell_type": "code",
   "execution_count": 1,
   "metadata": {
    "collapsed": true
   },
   "outputs": [],
   "source": [
    "from linked_list import *"
   ]
  },
  {
   "cell_type": "code",
   "execution_count": 2,
   "metadata": {
    "collapsed": true
   },
   "outputs": [],
   "source": [
    "class LinkedListEx(LinkedList):\n",
    "    #search(target, mode = 'next') -> data(없으면 None)\n",
    "    def search(self, target, mode = 'next'):\n",
    "        if mode == 'first':\n",
    "            data = self.traverse('first')\n",
    "        else:\n",
    "            data = self.traverse('next')\n",
    "            \n",
    "        while data:\n",
    "            if data == target:\n",
    "                return data\n",
    "            data = self.traverse()\n",
    "            \n",
    "        return None\n",
    "    #current가 가리키는 노드의 데이터를 업데이트\n",
    "    #update(data) -> None\n",
    "    def update(self, data):\n",
    "        self.current.data = data\n",
    "    #찾은 데이터 하나만 지움\n",
    "    #remove(target)->data\n",
    "    def remove(self, target):\n",
    "        data = self.traverse('first')\n",
    "        \n",
    "        while data:\n",
    "            if data == target:\n",
    "                return super().remove(data)\n",
    "            data = self.traverse()\n",
    "        return None\n",
    "    \n",
    "    #찾는 데이터의 개수\n",
    "    #count(target)->num of target\n",
    "    def count(self, target):\n",
    "        cnt = 0\n",
    "        data = self.search(target, 'first')\n",
    "        while data:\n",
    "            cnt += 1\n",
    "            data = self.search(target)\n",
    "            \n",
    "        return cnt"
   ]
  },
  {
   "cell_type": "code",
   "execution_count": 4,
   "metadata": {},
   "outputs": [
    {
     "name": "stdout",
     "output_type": "stream",
     "text": [
      "데이터의 개수 : 0\n",
      "There is no data\n",
      "\n",
      "데이터의 개수 : 8\n",
      "2  3  1  5  2  10  7  2  \n",
      "\n",
      "데이터의 개수 : 8\n",
      "4  3  1  5  4  10  7  4  \n"
     ]
    }
   ],
   "source": [
    "if __name__ == \"__main__\":    \n",
    "    slist = LinkedListEx()#1\n",
    "    print(\"데이터의 개수 : {}\".format(slist.size()))\n",
    "    show_list(slist)\n",
    "    print('')\n",
    "\n",
    "    slist.append(2)#2\n",
    "    slist.append(3)\n",
    "    slist.append(1)\n",
    "    slist.append(5)\n",
    "    slist.append(2)\n",
    "    slist.append(10)\n",
    "    slist.append(7)\n",
    "    slist.append(2)\n",
    "    \n",
    "    print(\"데이터의 개수 : {}\".format(slist.size()))\n",
    "    show_list(slist)\n",
    "    print('\\n')\n",
    "    \n",
    "    #client code\n",
    "    data = slist.search(2, 'first')\n",
    "    while data:\n",
    "        slist.update(4)\n",
    "        data = slist.search(2)\n",
    "    print(\"데이터의 개수 : {}\".format(slist.size()))\n",
    "    show_list(slist)\n",
    "    print('')"
   ]
  },
  {
   "cell_type": "code",
   "execution_count": null,
   "metadata": {
    "collapsed": true
   },
   "outputs": [],
   "source": []
  }
 ],
 "metadata": {
  "kernelspec": {
   "display_name": "Python 3",
   "language": "python",
   "name": "python3"
  },
  "language_info": {
   "codemirror_mode": {
    "name": "ipython",
    "version": 3
   },
   "file_extension": ".py",
   "mimetype": "text/x-python",
   "name": "python",
   "nbconvert_exporter": "python",
   "pygments_lexer": "ipython3",
   "version": "3.6.1"
  }
 },
 "nbformat": 4,
 "nbformat_minor": 2
}
