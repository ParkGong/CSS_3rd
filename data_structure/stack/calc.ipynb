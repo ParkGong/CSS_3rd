{
 "cells": [
  {
   "cell_type": "code",
   "execution_count": 1,
   "metadata": {
    "collapsed": true
   },
   "outputs": [],
   "source": [
    "from stack import *"
   ]
  },
  {
   "cell_type": "code",
   "execution_count": null,
   "metadata": {
    "collapsed": true
   },
   "outputs": [],
   "source": [
    "class Calculator:\n",
    "    def __init__(self):\n",
    "        self.org_exp = None\n",
    "        self.postfix_exp = None\n",
    "        self.result = None\n",
    "        \n",
    "    def set_org_exp(self, exp):\n",
    "        self.org_exp = exp.replace(' ', '')\n",
    "        self.postfix_exp = None\n",
    "        self.result = None\n",
    "        \n",
    "    def get_org_exp(self):\n",
    "        return self.org_exp\n",
    "    \n",
    "    #편의함수\n",
    "    #가중치 반환 return -> 가중치\n",
    "    def get_weight(self, oprt):\n",
    "        if oprt == '*' or oprt == '/':\n",
    "            return 9\n",
    "        elif oprt == '+' or oprt == '-':\n",
    "            return 7\n",
    "        elif oprt == '(':\n",
    "            return 5\n",
    "    \n",
    "    #self.org_exp --> self.postfix_exp\n",
    "    #exp_list and oprt_stack\n",
    "    def convert_to_postfix(self):\n",
    "        pass\n",
    "    \n",
    "    #client에게 공개된 인터페이스\n",
    "    def get_postfix_exp(self):\n",
    "        if not self.org_exp:\n",
    "            return None\n",
    "        \n",
    "        if not self.postfix_exp:\n",
    "            self.convert_to_postfix()\n",
    "            \n",
    "        return self.postfix_exp\n",
    "    \n",
    "    #편의함수\n",
    "    #3 + 2 : 3 ->oprd1,  2->oprd2,   '+'-> oprt\n",
    "    def calc_two_oprd(self, oprd1, oprd2, oprt):\n",
    "        if oprt == '+':\n",
    "            return oprd1 + oprd2\n",
    "        elif oprt == '-':\n",
    "            return oprd1 - oprd2\n",
    "        elif oprt == '*':\n",
    "            return oprd1 * oprd2\n",
    "        elif oprt == '/':\n",
    "            return oprd1 // oprd2\n",
    "    \n",
    "    #알고리즘 part2\n",
    "    #후위 표기법 수식 -> 계산\n",
    "    #return -> None\n",
    "    #self.result = 결과값\n",
    "    #oprd_stack\n",
    "    def calculate(self):\n",
    "        pass\n",
    "    \n",
    "    #client에게 공개된 인터페이스\n",
    "    def get_result(self):\n",
    "        if not self.org_exp:\n",
    "            return None\n",
    "        \n",
    "        if not self.result:\n",
    "            self.calculate()\n",
    "            \n",
    "        return self.result\n",
    "    "
   ]
  }
 ],
 "metadata": {
  "kernelspec": {
   "display_name": "Python 3",
   "language": "python",
   "name": "python3"
  },
  "language_info": {
   "codemirror_mode": {
    "name": "ipython",
    "version": 3
   },
   "file_extension": ".py",
   "mimetype": "text/x-python",
   "name": "python",
   "nbconvert_exporter": "python",
   "pygments_lexer": "ipython3",
   "version": "3.6.1"
  }
 },
 "nbformat": 4,
 "nbformat_minor": 2
}
